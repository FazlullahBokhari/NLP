{
 "cells": [
  {
   "cell_type": "code",
   "execution_count": 15,
   "id": "e33a8ee7",
   "metadata": {},
   "outputs": [],
   "source": [
    "paragraph = \"This is the NLP session that is going on and finally we are happy. Is everyone happy. My Deep Learning starter.\""
   ]
  },
  {
   "cell_type": "code",
   "execution_count": 16,
   "id": "7af4333e",
   "metadata": {},
   "outputs": [],
   "source": [
    "import nltk"
   ]
  },
  {
   "cell_type": "code",
   "execution_count": 17,
   "id": "0023e3e6",
   "metadata": {},
   "outputs": [
    {
     "data": {
      "text/plain": [
       "['This is the NLP session that is going on and finally we are happy.',\n",
       " 'Is everyone happy.',\n",
       " 'My Deep Learning starter.']"
      ]
     },
     "execution_count": 17,
     "metadata": {},
     "output_type": "execute_result"
    }
   ],
   "source": [
    "nltk.sent_tokenize(paragraph)"
   ]
  },
  {
   "cell_type": "code",
   "execution_count": null,
   "id": "a66ed4ab",
   "metadata": {},
   "outputs": [],
   "source": []
  }
 ],
 "metadata": {
  "kernelspec": {
   "display_name": "Python 3 (ipykernel)",
   "language": "python",
   "name": "python3"
  },
  "language_info": {
   "codemirror_mode": {
    "name": "ipython",
    "version": 3
   },
   "file_extension": ".py",
   "mimetype": "text/x-python",
   "name": "python",
   "nbconvert_exporter": "python",
   "pygments_lexer": "ipython3",
   "version": "3.9.12"
  }
 },
 "nbformat": 4,
 "nbformat_minor": 5
}

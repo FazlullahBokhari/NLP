{
 "cells": [
  {
   "cell_type": "code",
   "execution_count": 15,
   "id": "af759a5d",
   "metadata": {},
   "outputs": [],
   "source": [
    "paragraph = \"This is the NLP session that is going on and finally we are happy. Is everyone happy. My Deep Learning starter.\""
   ]
  },
  {
   "cell_type": "code",
   "execution_count": 16,
   "id": "92989f12",
   "metadata": {},
   "outputs": [],
   "source": [
    "import nltk"
   ]
  },
  {
   "cell_type": "code",
   "execution_count": 36,
   "id": "cb5ac13d",
   "metadata": {},
   "outputs": [],
   "source": [
    "# Coversion of paragraph into sentences\n",
    "\n",
    "sentences = nltk.sent_tokenize(paragraph)"
   ]
  },
  {
   "cell_type": "code",
   "execution_count": 37,
   "id": "1fb0cf44",
   "metadata": {},
   "outputs": [
    {
     "data": {
      "text/plain": [
       "['This is the NLP session that is going on and finally we are happy.',\n",
       " 'Is everyone happy.',\n",
       " 'My Deep Learning starter.']"
      ]
     },
     "execution_count": 37,
     "metadata": {},
     "output_type": "execute_result"
    }
   ],
   "source": [
    "sentences"
   ]
  },
  {
   "cell_type": "code",
   "execution_count": 18,
   "id": "14898a4e",
   "metadata": {},
   "outputs": [
    {
     "data": {
      "text/plain": [
       "['This',\n",
       " 'is',\n",
       " 'the',\n",
       " 'NLP',\n",
       " 'session',\n",
       " 'that',\n",
       " 'is',\n",
       " 'going',\n",
       " 'on',\n",
       " 'and',\n",
       " 'finally',\n",
       " 'we',\n",
       " 'are',\n",
       " 'happy',\n",
       " '.',\n",
       " 'Is',\n",
       " 'everyone',\n",
       " 'happy',\n",
       " '.',\n",
       " 'My',\n",
       " 'Deep',\n",
       " 'Learning',\n",
       " 'starter',\n",
       " '.']"
      ]
     },
     "execution_count": 18,
     "metadata": {},
     "output_type": "execute_result"
    }
   ],
   "source": [
    "# tokenization: Coversion of sentences into words\n",
    "nltk.word_tokenize(paragraph)"
   ]
  },
  {
   "cell_type": "code",
   "execution_count": 20,
   "id": "e4dbb5b9",
   "metadata": {},
   "outputs": [],
   "source": [
    "from nltk.stem import PorterStemmer"
   ]
  },
  {
   "cell_type": "code",
   "execution_count": 21,
   "id": "52e9b2b5",
   "metadata": {},
   "outputs": [],
   "source": [
    "stemmer = PorterStemmer()"
   ]
  },
  {
   "cell_type": "code",
   "execution_count": 22,
   "id": "55f3b624",
   "metadata": {},
   "outputs": [
    {
     "data": {
      "text/plain": [
       "'go'"
      ]
     },
     "execution_count": 22,
     "metadata": {},
     "output_type": "execute_result"
    }
   ],
   "source": [
    "stemmer.stem(\"going\")"
   ]
  },
  {
   "cell_type": "code",
   "execution_count": 23,
   "id": "1e515e39",
   "metadata": {},
   "outputs": [
    {
     "data": {
      "text/plain": [
       "'final'"
      ]
     },
     "execution_count": 23,
     "metadata": {},
     "output_type": "execute_result"
    }
   ],
   "source": [
    "stemmer.stem(\"finally\")"
   ]
  },
  {
   "cell_type": "code",
   "execution_count": 24,
   "id": "104d75ba",
   "metadata": {},
   "outputs": [
    {
     "data": {
      "text/plain": [
       "'histori'"
      ]
     },
     "execution_count": 24,
     "metadata": {},
     "output_type": "execute_result"
    }
   ],
   "source": [
    "stemmer.stem(\"history\")"
   ]
  },
  {
   "cell_type": "code",
   "execution_count": 25,
   "id": "0db4da8a",
   "metadata": {},
   "outputs": [
    {
     "data": {
      "text/plain": [
       "'organ'"
      ]
     },
     "execution_count": 25,
     "metadata": {},
     "output_type": "execute_result"
    }
   ],
   "source": [
    "stemmer.stem(\"organization\")"
   ]
  },
  {
   "cell_type": "code",
   "execution_count": 26,
   "id": "973193cf",
   "metadata": {},
   "outputs": [
    {
     "data": {
      "text/plain": [
       "'happi'"
      ]
     },
     "execution_count": 26,
     "metadata": {},
     "output_type": "execute_result"
    }
   ],
   "source": [
    "stemmer.stem(\"happy\")"
   ]
  },
  {
   "cell_type": "code",
   "execution_count": 27,
   "id": "57c494b7",
   "metadata": {},
   "outputs": [],
   "source": [
    "from nltk.stem import WordNetLemmatizer"
   ]
  },
  {
   "cell_type": "code",
   "execution_count": 28,
   "id": "f71d7898",
   "metadata": {},
   "outputs": [],
   "source": [
    "lemmatizer = WordNetLemmatizer()"
   ]
  },
  {
   "cell_type": "code",
   "execution_count": 33,
   "id": "55625e6b",
   "metadata": {},
   "outputs": [
    {
     "data": {
      "text/plain": [
       "'history'"
      ]
     },
     "execution_count": 33,
     "metadata": {},
     "output_type": "execute_result"
    }
   ],
   "source": [
    "lemmatizer.lemmatize(\"history\")"
   ]
  },
  {
   "cell_type": "code",
   "execution_count": 34,
   "id": "527fdfc5",
   "metadata": {},
   "outputs": [
    {
     "data": {
      "text/plain": [
       "'eating'"
      ]
     },
     "execution_count": 34,
     "metadata": {},
     "output_type": "execute_result"
    }
   ],
   "source": [
    "lemmatizer.lemmatize(\"eating\")"
   ]
  },
  {
   "cell_type": "code",
   "execution_count": 35,
   "id": "7bcd8406",
   "metadata": {},
   "outputs": [
    {
     "data": {
      "text/plain": [
       "'historical'"
      ]
     },
     "execution_count": 35,
     "metadata": {},
     "output_type": "execute_result"
    }
   ],
   "source": [
    "lemmatizer.lemmatize(\"historical\")"
   ]
  },
  {
   "cell_type": "code",
   "execution_count": 38,
   "id": "84d1bf05",
   "metadata": {},
   "outputs": [
    {
     "data": {
      "text/plain": [
       "['This is the NLP session that is going on and finally we are happy.',\n",
       " 'Is everyone happy.',\n",
       " 'My Deep Learning starter.']"
      ]
     },
     "execution_count": 38,
     "metadata": {},
     "output_type": "execute_result"
    }
   ],
   "source": [
    "sentences"
   ]
  },
  {
   "cell_type": "code",
   "execution_count": 55,
   "id": "70d74d72",
   "metadata": {},
   "outputs": [
    {
     "name": "stdout",
     "output_type": "stream",
     "text": [
      "['thi', 'is', 'the', 'nlp', 'session', 'that', 'is', 'go', 'on', 'and', 'final', 'we', 'are', 'happi', '.']\n",
      "['is', 'everyon', 'happi', '.']\n",
      "['my', 'deep', 'learn', 'starter', '.']\n"
     ]
    }
   ],
   "source": [
    "corpus = []\n",
    "for i in range(len(sentences)):\n",
    "    words = nltk.word_tokenize(sentences[i])\n",
    "    words = [stemmer.stem(word) for word in words] \n",
    "    print(words)\n",
    "    corpus.append(\" \".join(words))"
   ]
  },
  {
   "cell_type": "code",
   "execution_count": 56,
   "id": "4c319fe8",
   "metadata": {},
   "outputs": [
    {
     "data": {
      "text/plain": [
       "['thi is the nlp session that is go on and final we are happi .',\n",
       " 'is everyon happi .',\n",
       " 'my deep learn starter .']"
      ]
     },
     "execution_count": 56,
     "metadata": {},
     "output_type": "execute_result"
    }
   ],
   "source": [
    "corpus"
   ]
  },
  {
   "cell_type": "code",
   "execution_count": 57,
   "id": "d20bfe46",
   "metadata": {},
   "outputs": [
    {
     "name": "stdout",
     "output_type": "stream",
     "text": [
      "['This', 'is', 'the', 'NLP', 'session', 'that', 'is', 'going', 'on', 'and', 'finally', 'we', 'are', 'happy', '.']\n",
      "['Is', 'everyone', 'happy', '.']\n",
      "['My', 'Deep', 'Learning', 'starter', '.']\n"
     ]
    }
   ],
   "source": [
    "corpus = []\n",
    "for i in range(len(sentences)):\n",
    "    words = nltk.word_tokenize(sentences[i])\n",
    "    words = [lemmatizer.lemmatize(word) for word in words] \n",
    "    print(words)\n",
    "    corpus.append(\" \".join(words))"
   ]
  },
  {
   "cell_type": "code",
   "execution_count": 58,
   "id": "e51e5cc3",
   "metadata": {},
   "outputs": [
    {
     "data": {
      "text/plain": [
       "['This is the NLP session that is going on and finally we are happy .',\n",
       " 'Is everyone happy .',\n",
       " 'My Deep Learning starter .']"
      ]
     },
     "execution_count": 58,
     "metadata": {},
     "output_type": "execute_result"
    }
   ],
   "source": [
    "corpus"
   ]
  },
  {
   "cell_type": "code",
   "execution_count": 65,
   "id": "8818a209",
   "metadata": {},
   "outputs": [],
   "source": [
    "paragraph = \"\"\"Ratan Naval Tata (born 28 December 1937) is an Indian industrialist, and a former chairman of Tata Sons. He was the chairman of Tata Group, from 1990 to 2012, and again, as interim chairman, from October 2016 through February 2017, and continues to head its charitable trusts.[2][3] He is the recipient of two civilian awards of India, the Padma Vibhushan (2008), the second highest civilian honour, and the Padma Bhushan (2000),the third highest civilian honour.[4]\n",
    "\n",
    "Born in 1937, he is an heir of the Tata family, and son of Naval Tata who was later adopted by Ratanji Tata, son of Jamsetji Tata, the founder of Tata Group. He is an alumnus of the Cornell University College of Architecture and Harvard Business School through the Advanced Management Program that he completed in 1975.[5] He joined his company in 1961 when he used to work on the shop floor of Tata Steel, and was the apparent successor to J. R. D. Tata upon the latter's retirement in 1991. He got Tata Tea to acquire Tetley, Tata Motors to acquire Jaguar Land Rover, and Tata Steel to acquire Corus, in an attempt to turn Tata from a largely India-centrist group into a global business. Around 60-65% of his profits are donated to charity making him one of the most significant philanthropists in the world.\"\"\""
   ]
  },
  {
   "cell_type": "code",
   "execution_count": 66,
   "id": "b14f6d8c",
   "metadata": {},
   "outputs": [
    {
     "data": {
      "text/plain": [
       "\"Ratan Naval Tata (born 28 December 1937) is an Indian industrialist, and a former chairman of Tata Sons. He was the chairman of Tata Group, from 1990 to 2012, and again, as interim chairman, from October 2016 through February 2017, and continues to head its charitable trusts.[2][3] He is the recipient of two civilian awards of India, the Padma Vibhushan (2008), the second highest civilian honour, and the Padma Bhushan (2000),the third highest civilian honour.[4]\\n\\nBorn in 1937, he is an heir of the Tata family, and son of Naval Tata who was later adopted by Ratanji Tata, son of Jamsetji Tata, the founder of Tata Group. He is an alumnus of the Cornell University College of Architecture and Harvard Business School through the Advanced Management Program that he completed in 1975.[5] He joined his company in 1961 when he used to work on the shop floor of Tata Steel, and was the apparent successor to J. R. D. Tata upon the latter's retirement in 1991. He got Tata Tea to acquire Tetley, Tata Motors to acquire Jaguar Land Rover, and Tata Steel to acquire Corus, in an attempt to turn Tata from a largely India-centrist group into a global business. Around 60-65% of his profits are donated to charity making him one of the most significant philanthropists in the world.\""
      ]
     },
     "execution_count": 66,
     "metadata": {},
     "output_type": "execute_result"
    }
   ],
   "source": [
    "paragraph"
   ]
  },
  {
   "cell_type": "code",
   "execution_count": 67,
   "id": "8ce18988",
   "metadata": {},
   "outputs": [],
   "source": [
    "sentences = nltk.sent_tokenize(paragraph)"
   ]
  },
  {
   "cell_type": "code",
   "execution_count": 68,
   "id": "794b5bc9",
   "metadata": {},
   "outputs": [
    {
     "data": {
      "text/plain": [
       "['Ratan Naval Tata (born 28 December 1937) is an Indian industrialist, and a former chairman of Tata Sons.',\n",
       " 'He was the chairman of Tata Group, from 1990 to 2012, and again, as interim chairman, from October 2016 through February 2017, and continues to head its charitable trusts.',\n",
       " '[2][3] He is the recipient of two civilian awards of India, the Padma Vibhushan (2008), the second highest civilian honour, and the Padma Bhushan (2000),the third highest civilian honour.',\n",
       " '[4]\\n\\nBorn in 1937, he is an heir of the Tata family, and son of Naval Tata who was later adopted by Ratanji Tata, son of Jamsetji Tata, the founder of Tata Group.',\n",
       " 'He is an alumnus of the Cornell University College of Architecture and Harvard Business School through the Advanced Management Program that he completed in 1975.',\n",
       " \"[5] He joined his company in 1961 when he used to work on the shop floor of Tata Steel, and was the apparent successor to J. R. D. Tata upon the latter's retirement in 1991.\",\n",
       " 'He got Tata Tea to acquire Tetley, Tata Motors to acquire Jaguar Land Rover, and Tata Steel to acquire Corus, in an attempt to turn Tata from a largely India-centrist group into a global business.',\n",
       " 'Around 60-65% of his profits are donated to charity making him one of the most significant philanthropists in the world.']"
      ]
     },
     "execution_count": 68,
     "metadata": {},
     "output_type": "execute_result"
    }
   ],
   "source": [
    "sentences"
   ]
  },
  {
   "cell_type": "code",
   "execution_count": 69,
   "id": "75d0000b",
   "metadata": {},
   "outputs": [
    {
     "name": "stdout",
     "output_type": "stream",
     "text": [
      "['ratan', 'naval', 'tata', '(', 'born', '28', 'decemb', '1937', ')', 'is', 'an', 'indian', 'industrialist', ',', 'and', 'a', 'former', 'chairman', 'of', 'tata', 'son', '.']\n",
      "['he', 'wa', 'the', 'chairman', 'of', 'tata', 'group', ',', 'from', '1990', 'to', '2012', ',', 'and', 'again', ',', 'as', 'interim', 'chairman', ',', 'from', 'octob', '2016', 'through', 'februari', '2017', ',', 'and', 'continu', 'to', 'head', 'it', 'charit', 'trust', '.']\n",
      "['[', '2', ']', '[', '3', ']', 'he', 'is', 'the', 'recipi', 'of', 'two', 'civilian', 'award', 'of', 'india', ',', 'the', 'padma', 'vibhushan', '(', '2008', ')', ',', 'the', 'second', 'highest', 'civilian', 'honour', ',', 'and', 'the', 'padma', 'bhushan', '(', '2000', ')', ',', 'the', 'third', 'highest', 'civilian', 'honour', '.']\n",
      "['[', '4', ']', 'born', 'in', '1937', ',', 'he', 'is', 'an', 'heir', 'of', 'the', 'tata', 'famili', ',', 'and', 'son', 'of', 'naval', 'tata', 'who', 'wa', 'later', 'adopt', 'by', 'ratanji', 'tata', ',', 'son', 'of', 'jamsetji', 'tata', ',', 'the', 'founder', 'of', 'tata', 'group', '.']\n",
      "['he', 'is', 'an', 'alumnu', 'of', 'the', 'cornel', 'univers', 'colleg', 'of', 'architectur', 'and', 'harvard', 'busi', 'school', 'through', 'the', 'advanc', 'manag', 'program', 'that', 'he', 'complet', 'in', '1975', '.']\n",
      "['[', '5', ']', 'he', 'join', 'hi', 'compani', 'in', '1961', 'when', 'he', 'use', 'to', 'work', 'on', 'the', 'shop', 'floor', 'of', 'tata', 'steel', ',', 'and', 'wa', 'the', 'appar', 'successor', 'to', 'j.', 'r.', 'd.', 'tata', 'upon', 'the', 'latter', \"'s\", 'retir', 'in', '1991', '.']\n",
      "['he', 'got', 'tata', 'tea', 'to', 'acquir', 'tetley', ',', 'tata', 'motor', 'to', 'acquir', 'jaguar', 'land', 'rover', ',', 'and', 'tata', 'steel', 'to', 'acquir', 'coru', ',', 'in', 'an', 'attempt', 'to', 'turn', 'tata', 'from', 'a', 'larg', 'india-centrist', 'group', 'into', 'a', 'global', 'busi', '.']\n",
      "['around', '60-65', '%', 'of', 'hi', 'profit', 'are', 'donat', 'to', 'chariti', 'make', 'him', 'one', 'of', 'the', 'most', 'signific', 'philanthropist', 'in', 'the', 'world', '.']\n"
     ]
    }
   ],
   "source": [
    "corpus = []\n",
    "for i in range(len(sentences)):\n",
    "    words = nltk.word_tokenize(sentences[i])\n",
    "    words = [stemmer.stem(word) for word in words] \n",
    "    print(words)\n",
    "    corpus.append(\" \".join(words))"
   ]
  },
  {
   "cell_type": "code",
   "execution_count": 70,
   "id": "9204c0d7",
   "metadata": {},
   "outputs": [
    {
     "data": {
      "text/plain": [
       "['ratan naval tata ( born 28 decemb 1937 ) is an indian industrialist , and a former chairman of tata son .',\n",
       " 'he wa the chairman of tata group , from 1990 to 2012 , and again , as interim chairman , from octob 2016 through februari 2017 , and continu to head it charit trust .',\n",
       " '[ 2 ] [ 3 ] he is the recipi of two civilian award of india , the padma vibhushan ( 2008 ) , the second highest civilian honour , and the padma bhushan ( 2000 ) , the third highest civilian honour .',\n",
       " '[ 4 ] born in 1937 , he is an heir of the tata famili , and son of naval tata who wa later adopt by ratanji tata , son of jamsetji tata , the founder of tata group .',\n",
       " 'he is an alumnu of the cornel univers colleg of architectur and harvard busi school through the advanc manag program that he complet in 1975 .',\n",
       " \"[ 5 ] he join hi compani in 1961 when he use to work on the shop floor of tata steel , and wa the appar successor to j. r. d. tata upon the latter 's retir in 1991 .\",\n",
       " 'he got tata tea to acquir tetley , tata motor to acquir jaguar land rover , and tata steel to acquir coru , in an attempt to turn tata from a larg india-centrist group into a global busi .',\n",
       " 'around 60-65 % of hi profit are donat to chariti make him one of the most signific philanthropist in the world .']"
      ]
     },
     "execution_count": 70,
     "metadata": {},
     "output_type": "execute_result"
    }
   ],
   "source": [
    "corpus"
   ]
  },
  {
   "cell_type": "code",
   "execution_count": 71,
   "id": "ee1028d2",
   "metadata": {},
   "outputs": [
    {
     "name": "stdout",
     "output_type": "stream",
     "text": [
      "['Ratan', 'Naval', 'Tata', '(', 'born', '28', 'December', '1937', ')', 'is', 'an', 'Indian', 'industrialist', ',', 'and', 'a', 'former', 'chairman', 'of', 'Tata', 'Sons', '.']\n",
      "['He', 'wa', 'the', 'chairman', 'of', 'Tata', 'Group', ',', 'from', '1990', 'to', '2012', ',', 'and', 'again', ',', 'a', 'interim', 'chairman', ',', 'from', 'October', '2016', 'through', 'February', '2017', ',', 'and', 'continues', 'to', 'head', 'it', 'charitable', 'trust', '.']\n",
      "['[', '2', ']', '[', '3', ']', 'He', 'is', 'the', 'recipient', 'of', 'two', 'civilian', 'award', 'of', 'India', ',', 'the', 'Padma', 'Vibhushan', '(', '2008', ')', ',', 'the', 'second', 'highest', 'civilian', 'honour', ',', 'and', 'the', 'Padma', 'Bhushan', '(', '2000', ')', ',', 'the', 'third', 'highest', 'civilian', 'honour', '.']\n",
      "['[', '4', ']', 'Born', 'in', '1937', ',', 'he', 'is', 'an', 'heir', 'of', 'the', 'Tata', 'family', ',', 'and', 'son', 'of', 'Naval', 'Tata', 'who', 'wa', 'later', 'adopted', 'by', 'Ratanji', 'Tata', ',', 'son', 'of', 'Jamsetji', 'Tata', ',', 'the', 'founder', 'of', 'Tata', 'Group', '.']\n",
      "['He', 'is', 'an', 'alumnus', 'of', 'the', 'Cornell', 'University', 'College', 'of', 'Architecture', 'and', 'Harvard', 'Business', 'School', 'through', 'the', 'Advanced', 'Management', 'Program', 'that', 'he', 'completed', 'in', '1975', '.']\n",
      "['[', '5', ']', 'He', 'joined', 'his', 'company', 'in', '1961', 'when', 'he', 'used', 'to', 'work', 'on', 'the', 'shop', 'floor', 'of', 'Tata', 'Steel', ',', 'and', 'wa', 'the', 'apparent', 'successor', 'to', 'J.', 'R.', 'D.', 'Tata', 'upon', 'the', 'latter', \"'s\", 'retirement', 'in', '1991', '.']\n",
      "['He', 'got', 'Tata', 'Tea', 'to', 'acquire', 'Tetley', ',', 'Tata', 'Motors', 'to', 'acquire', 'Jaguar', 'Land', 'Rover', ',', 'and', 'Tata', 'Steel', 'to', 'acquire', 'Corus', ',', 'in', 'an', 'attempt', 'to', 'turn', 'Tata', 'from', 'a', 'largely', 'India-centrist', 'group', 'into', 'a', 'global', 'business', '.']\n",
      "['Around', '60-65', '%', 'of', 'his', 'profit', 'are', 'donated', 'to', 'charity', 'making', 'him', 'one', 'of', 'the', 'most', 'significant', 'philanthropist', 'in', 'the', 'world', '.']\n"
     ]
    }
   ],
   "source": [
    "corpus = []\n",
    "for i in range(len(sentences)):\n",
    "    words = nltk.word_tokenize(sentences[i])\n",
    "    words = [lemmatizer.lemmatize(word) for word in words] \n",
    "    print(words)\n",
    "    corpus.append(\" \".join(words))"
   ]
  },
  {
   "cell_type": "code",
   "execution_count": 72,
   "id": "b3c42272",
   "metadata": {},
   "outputs": [
    {
     "data": {
      "text/plain": [
       "['Ratan Naval Tata ( born 28 December 1937 ) is an Indian industrialist , and a former chairman of Tata Sons .',\n",
       " 'He wa the chairman of Tata Group , from 1990 to 2012 , and again , a interim chairman , from October 2016 through February 2017 , and continues to head it charitable trust .',\n",
       " '[ 2 ] [ 3 ] He is the recipient of two civilian award of India , the Padma Vibhushan ( 2008 ) , the second highest civilian honour , and the Padma Bhushan ( 2000 ) , the third highest civilian honour .',\n",
       " '[ 4 ] Born in 1937 , he is an heir of the Tata family , and son of Naval Tata who wa later adopted by Ratanji Tata , son of Jamsetji Tata , the founder of Tata Group .',\n",
       " 'He is an alumnus of the Cornell University College of Architecture and Harvard Business School through the Advanced Management Program that he completed in 1975 .',\n",
       " \"[ 5 ] He joined his company in 1961 when he used to work on the shop floor of Tata Steel , and wa the apparent successor to J. R. D. Tata upon the latter 's retirement in 1991 .\",\n",
       " 'He got Tata Tea to acquire Tetley , Tata Motors to acquire Jaguar Land Rover , and Tata Steel to acquire Corus , in an attempt to turn Tata from a largely India-centrist group into a global business .',\n",
       " 'Around 60-65 % of his profit are donated to charity making him one of the most significant philanthropist in the world .']"
      ]
     },
     "execution_count": 72,
     "metadata": {},
     "output_type": "execute_result"
    }
   ],
   "source": [
    "corpus"
   ]
  },
  {
   "cell_type": "code",
   "execution_count": 73,
   "id": "ee199ce6",
   "metadata": {},
   "outputs": [
    {
     "data": {
      "text/plain": [
       "'wa'"
      ]
     },
     "execution_count": 73,
     "metadata": {},
     "output_type": "execute_result"
    }
   ],
   "source": [
    "lemmatizer.lemmatize(\"was\")"
   ]
  },
  {
   "cell_type": "code",
   "execution_count": 76,
   "id": "ce16d904",
   "metadata": {},
   "outputs": [
    {
     "data": {
      "text/plain": [
       "['i',\n",
       " 'me',\n",
       " 'my',\n",
       " 'myself',\n",
       " 'we',\n",
       " 'our',\n",
       " 'ours',\n",
       " 'ourselves',\n",
       " 'you',\n",
       " \"you're\",\n",
       " \"you've\",\n",
       " \"you'll\",\n",
       " \"you'd\",\n",
       " 'your',\n",
       " 'yours',\n",
       " 'yourself',\n",
       " 'yourselves',\n",
       " 'he',\n",
       " 'him',\n",
       " 'his',\n",
       " 'himself',\n",
       " 'she',\n",
       " \"she's\",\n",
       " 'her',\n",
       " 'hers',\n",
       " 'herself',\n",
       " 'it',\n",
       " \"it's\",\n",
       " 'its',\n",
       " 'itself',\n",
       " 'they',\n",
       " 'them',\n",
       " 'their',\n",
       " 'theirs',\n",
       " 'themselves',\n",
       " 'what',\n",
       " 'which',\n",
       " 'who',\n",
       " 'whom',\n",
       " 'this',\n",
       " 'that',\n",
       " \"that'll\",\n",
       " 'these',\n",
       " 'those',\n",
       " 'am',\n",
       " 'is',\n",
       " 'are',\n",
       " 'was',\n",
       " 'were',\n",
       " 'be',\n",
       " 'been',\n",
       " 'being',\n",
       " 'have',\n",
       " 'has',\n",
       " 'had',\n",
       " 'having',\n",
       " 'do',\n",
       " 'does',\n",
       " 'did',\n",
       " 'doing',\n",
       " 'a',\n",
       " 'an',\n",
       " 'the',\n",
       " 'and',\n",
       " 'but',\n",
       " 'if',\n",
       " 'or',\n",
       " 'because',\n",
       " 'as',\n",
       " 'until',\n",
       " 'while',\n",
       " 'of',\n",
       " 'at',\n",
       " 'by',\n",
       " 'for',\n",
       " 'with',\n",
       " 'about',\n",
       " 'against',\n",
       " 'between',\n",
       " 'into',\n",
       " 'through',\n",
       " 'during',\n",
       " 'before',\n",
       " 'after',\n",
       " 'above',\n",
       " 'below',\n",
       " 'to',\n",
       " 'from',\n",
       " 'up',\n",
       " 'down',\n",
       " 'in',\n",
       " 'out',\n",
       " 'on',\n",
       " 'off',\n",
       " 'over',\n",
       " 'under',\n",
       " 'again',\n",
       " 'further',\n",
       " 'then',\n",
       " 'once',\n",
       " 'here',\n",
       " 'there',\n",
       " 'when',\n",
       " 'where',\n",
       " 'why',\n",
       " 'how',\n",
       " 'all',\n",
       " 'any',\n",
       " 'both',\n",
       " 'each',\n",
       " 'few',\n",
       " 'more',\n",
       " 'most',\n",
       " 'other',\n",
       " 'some',\n",
       " 'such',\n",
       " 'no',\n",
       " 'nor',\n",
       " 'not',\n",
       " 'only',\n",
       " 'own',\n",
       " 'same',\n",
       " 'so',\n",
       " 'than',\n",
       " 'too',\n",
       " 'very',\n",
       " 's',\n",
       " 't',\n",
       " 'can',\n",
       " 'will',\n",
       " 'just',\n",
       " 'don',\n",
       " \"don't\",\n",
       " 'should',\n",
       " \"should've\",\n",
       " 'now',\n",
       " 'd',\n",
       " 'll',\n",
       " 'm',\n",
       " 'o',\n",
       " 're',\n",
       " 've',\n",
       " 'y',\n",
       " 'ain',\n",
       " 'aren',\n",
       " \"aren't\",\n",
       " 'couldn',\n",
       " \"couldn't\",\n",
       " 'didn',\n",
       " \"didn't\",\n",
       " 'doesn',\n",
       " \"doesn't\",\n",
       " 'hadn',\n",
       " \"hadn't\",\n",
       " 'hasn',\n",
       " \"hasn't\",\n",
       " 'haven',\n",
       " \"haven't\",\n",
       " 'isn',\n",
       " \"isn't\",\n",
       " 'ma',\n",
       " 'mightn',\n",
       " \"mightn't\",\n",
       " 'mustn',\n",
       " \"mustn't\",\n",
       " 'needn',\n",
       " \"needn't\",\n",
       " 'shan',\n",
       " \"shan't\",\n",
       " 'shouldn',\n",
       " \"shouldn't\",\n",
       " 'wasn',\n",
       " \"wasn't\",\n",
       " 'weren',\n",
       " \"weren't\",\n",
       " 'won',\n",
       " \"won't\",\n",
       " 'wouldn',\n",
       " \"wouldn't\"]"
      ]
     },
     "execution_count": 76,
     "metadata": {},
     "output_type": "execute_result"
    }
   ],
   "source": [
    "from nltk.corpus import stopwords\n",
    "stopwords.words('english')"
   ]
  },
  {
   "cell_type": "code",
   "execution_count": 77,
   "id": "33985622",
   "metadata": {},
   "outputs": [],
   "source": [
    "stop_words = stopwords.words('english')"
   ]
  },
  {
   "cell_type": "code",
   "execution_count": 78,
   "id": "799d2155",
   "metadata": {},
   "outputs": [
    {
     "data": {
      "text/plain": [
       "['i',\n",
       " 'me',\n",
       " 'my',\n",
       " 'myself',\n",
       " 'we',\n",
       " 'our',\n",
       " 'ours',\n",
       " 'ourselves',\n",
       " 'you',\n",
       " \"you're\",\n",
       " \"you've\",\n",
       " \"you'll\",\n",
       " \"you'd\",\n",
       " 'your',\n",
       " 'yours',\n",
       " 'yourself',\n",
       " 'yourselves',\n",
       " 'he',\n",
       " 'him',\n",
       " 'his',\n",
       " 'himself',\n",
       " 'she',\n",
       " \"she's\",\n",
       " 'her',\n",
       " 'hers',\n",
       " 'herself',\n",
       " 'it',\n",
       " \"it's\",\n",
       " 'its',\n",
       " 'itself',\n",
       " 'they',\n",
       " 'them',\n",
       " 'their',\n",
       " 'theirs',\n",
       " 'themselves',\n",
       " 'what',\n",
       " 'which',\n",
       " 'who',\n",
       " 'whom',\n",
       " 'this',\n",
       " 'that',\n",
       " \"that'll\",\n",
       " 'these',\n",
       " 'those',\n",
       " 'am',\n",
       " 'is',\n",
       " 'are',\n",
       " 'was',\n",
       " 'were',\n",
       " 'be',\n",
       " 'been',\n",
       " 'being',\n",
       " 'have',\n",
       " 'has',\n",
       " 'had',\n",
       " 'having',\n",
       " 'do',\n",
       " 'does',\n",
       " 'did',\n",
       " 'doing',\n",
       " 'a',\n",
       " 'an',\n",
       " 'the',\n",
       " 'and',\n",
       " 'but',\n",
       " 'if',\n",
       " 'or',\n",
       " 'because',\n",
       " 'as',\n",
       " 'until',\n",
       " 'while',\n",
       " 'of',\n",
       " 'at',\n",
       " 'by',\n",
       " 'for',\n",
       " 'with',\n",
       " 'about',\n",
       " 'against',\n",
       " 'between',\n",
       " 'into',\n",
       " 'through',\n",
       " 'during',\n",
       " 'before',\n",
       " 'after',\n",
       " 'above',\n",
       " 'below',\n",
       " 'to',\n",
       " 'from',\n",
       " 'up',\n",
       " 'down',\n",
       " 'in',\n",
       " 'out',\n",
       " 'on',\n",
       " 'off',\n",
       " 'over',\n",
       " 'under',\n",
       " 'again',\n",
       " 'further',\n",
       " 'then',\n",
       " 'once',\n",
       " 'here',\n",
       " 'there',\n",
       " 'when',\n",
       " 'where',\n",
       " 'why',\n",
       " 'how',\n",
       " 'all',\n",
       " 'any',\n",
       " 'both',\n",
       " 'each',\n",
       " 'few',\n",
       " 'more',\n",
       " 'most',\n",
       " 'other',\n",
       " 'some',\n",
       " 'such',\n",
       " 'no',\n",
       " 'nor',\n",
       " 'not',\n",
       " 'only',\n",
       " 'own',\n",
       " 'same',\n",
       " 'so',\n",
       " 'than',\n",
       " 'too',\n",
       " 'very',\n",
       " 's',\n",
       " 't',\n",
       " 'can',\n",
       " 'will',\n",
       " 'just',\n",
       " 'don',\n",
       " \"don't\",\n",
       " 'should',\n",
       " \"should've\",\n",
       " 'now',\n",
       " 'd',\n",
       " 'll',\n",
       " 'm',\n",
       " 'o',\n",
       " 're',\n",
       " 've',\n",
       " 'y',\n",
       " 'ain',\n",
       " 'aren',\n",
       " \"aren't\",\n",
       " 'couldn',\n",
       " \"couldn't\",\n",
       " 'didn',\n",
       " \"didn't\",\n",
       " 'doesn',\n",
       " \"doesn't\",\n",
       " 'hadn',\n",
       " \"hadn't\",\n",
       " 'hasn',\n",
       " \"hasn't\",\n",
       " 'haven',\n",
       " \"haven't\",\n",
       " 'isn',\n",
       " \"isn't\",\n",
       " 'ma',\n",
       " 'mightn',\n",
       " \"mightn't\",\n",
       " 'mustn',\n",
       " \"mustn't\",\n",
       " 'needn',\n",
       " \"needn't\",\n",
       " 'shan',\n",
       " \"shan't\",\n",
       " 'shouldn',\n",
       " \"shouldn't\",\n",
       " 'wasn',\n",
       " \"wasn't\",\n",
       " 'weren',\n",
       " \"weren't\",\n",
       " 'won',\n",
       " \"won't\",\n",
       " 'wouldn',\n",
       " \"wouldn't\"]"
      ]
     },
     "execution_count": 78,
     "metadata": {},
     "output_type": "execute_result"
    }
   ],
   "source": [
    "stop_words"
   ]
  },
  {
   "cell_type": "code",
   "execution_count": 79,
   "id": "ae122d90",
   "metadata": {},
   "outputs": [
    {
     "name": "stdout",
     "output_type": "stream",
     "text": [
      "change\n",
      "change\n",
      "changing\n",
      "changeable\n"
     ]
    }
   ],
   "source": [
    "for i in [\"change\", \"change\", \"changing\", \"changeable\"]:\n",
    "    print(lemmatizer.lemmatize(i))"
   ]
  },
  {
   "cell_type": "code",
   "execution_count": 80,
   "id": "ba545003",
   "metadata": {},
   "outputs": [
    {
     "data": {
      "text/plain": [
       "'sweet'"
      ]
     },
     "execution_count": 80,
     "metadata": {},
     "output_type": "execute_result"
    }
   ],
   "source": [
    "lemmatizer.lemmatize(\"sweets\")"
   ]
  },
  {
   "cell_type": "code",
   "execution_count": 81,
   "id": "5eb73689",
   "metadata": {},
   "outputs": [
    {
     "name": "stdout",
     "output_type": "stream",
     "text": [
      "better:  good\n"
     ]
    }
   ],
   "source": [
    "print(\"better: \", lemmatizer.lemmatize(\"better\", pos=\"a\"))"
   ]
  },
  {
   "cell_type": "code",
   "execution_count": 82,
   "id": "bd13070c",
   "metadata": {},
   "outputs": [
    {
     "data": {
      "text/plain": [
       "['Ratan Naval Tata ( born 28 December 1937 ) is an Indian industrialist , and a former chairman of Tata Sons .',\n",
       " 'He wa the chairman of Tata Group , from 1990 to 2012 , and again , a interim chairman , from October 2016 through February 2017 , and continues to head it charitable trust .',\n",
       " '[ 2 ] [ 3 ] He is the recipient of two civilian award of India , the Padma Vibhushan ( 2008 ) , the second highest civilian honour , and the Padma Bhushan ( 2000 ) , the third highest civilian honour .',\n",
       " '[ 4 ] Born in 1937 , he is an heir of the Tata family , and son of Naval Tata who wa later adopted by Ratanji Tata , son of Jamsetji Tata , the founder of Tata Group .',\n",
       " 'He is an alumnus of the Cornell University College of Architecture and Harvard Business School through the Advanced Management Program that he completed in 1975 .',\n",
       " \"[ 5 ] He joined his company in 1961 when he used to work on the shop floor of Tata Steel , and wa the apparent successor to J. R. D. Tata upon the latter 's retirement in 1991 .\",\n",
       " 'He got Tata Tea to acquire Tetley , Tata Motors to acquire Jaguar Land Rover , and Tata Steel to acquire Corus , in an attempt to turn Tata from a largely India-centrist group into a global business .',\n",
       " 'Around 60-65 % of his profit are donated to charity making him one of the most significant philanthropist in the world .']"
      ]
     },
     "execution_count": 82,
     "metadata": {},
     "output_type": "execute_result"
    }
   ],
   "source": [
    "corpus"
   ]
  },
  {
   "cell_type": "code",
   "execution_count": 86,
   "id": "e6ba9c1c",
   "metadata": {},
   "outputs": [
    {
     "name": "stdout",
     "output_type": "stream",
     "text": [
      "['ratan', 'naval', 'tata', '(', 'born', '28', 'decemb', '1937', ')', 'indian', 'industrialist', ',', 'former', 'chairman', 'tata', 'son', '.']\n",
      "['chairman', 'tata', 'group', ',', '1990', '2012', ',', ',', 'interim', 'chairman', ',', 'octob', '2016', 'februari', '2017', ',', 'continu', 'head', 'charit', 'trust', '.']\n",
      "['[', '2', ']', '[', '3', ']', 'recipi', 'two', 'civilian', 'award', 'india', ',', 'padma', 'vibhushan', '(', '2008', ')', ',', 'second', 'highest', 'civilian', 'honour', ',', 'padma', 'bhushan', '(', '2000', ')', ',', 'third', 'highest', 'civilian', 'honour', '.']\n",
      "['[', '4', ']', 'born', '1937', ',', 'heir', 'tata', 'famili', ',', 'son', 'naval', 'tata', 'later', 'adopt', 'ratanji', 'tata', ',', 'son', 'jamsetji', 'tata', ',', 'founder', 'tata', 'group', '.']\n",
      "['alumnu', 'cornel', 'univers', 'colleg', 'architectur', 'harvard', 'busi', 'school', 'advanc', 'manag', 'program', 'complet', '1975', '.']\n",
      "['[', '5', ']', 'join', 'compani', '1961', 'use', 'work', 'shop', 'floor', 'tata', 'steel', ',', 'appar', 'successor', 'j.', 'r.', 'd.', 'tata', 'upon', 'latter', \"'s\", 'retir', '1991', '.']\n",
      "['got', 'tata', 'tea', 'acquir', 'tetley', ',', 'tata', 'motor', 'acquir', 'jaguar', 'land', 'rover', ',', 'tata', 'steel', 'acquir', 'coru', ',', 'attempt', 'turn', 'tata', 'larg', 'india-centrist', 'group', 'global', 'busi', '.']\n",
      "['around', '60-65', '%', 'profit', 'donat', 'chariti', 'make', 'one', 'signific', 'philanthropist', 'world', '.']\n"
     ]
    }
   ],
   "source": [
    "corpus = []\n",
    "for i in range(len(sentences)):\n",
    "    words = nltk.word_tokenize(sentences[i].lower())\n",
    "    words = [stemmer.stem(word) for word in words if not word in stop_words] \n",
    "    print(words)\n",
    "    corpus.append(\" \".join(words))"
   ]
  },
  {
   "cell_type": "code",
   "execution_count": 87,
   "id": "76515edf",
   "metadata": {},
   "outputs": [
    {
     "data": {
      "text/plain": [
       "['ratan naval tata ( born 28 decemb 1937 ) indian industrialist , former chairman tata son .',\n",
       " 'chairman tata group , 1990 2012 , , interim chairman , octob 2016 februari 2017 , continu head charit trust .',\n",
       " '[ 2 ] [ 3 ] recipi two civilian award india , padma vibhushan ( 2008 ) , second highest civilian honour , padma bhushan ( 2000 ) , third highest civilian honour .',\n",
       " '[ 4 ] born 1937 , heir tata famili , son naval tata later adopt ratanji tata , son jamsetji tata , founder tata group .',\n",
       " 'alumnu cornel univers colleg architectur harvard busi school advanc manag program complet 1975 .',\n",
       " \"[ 5 ] join compani 1961 use work shop floor tata steel , appar successor j. r. d. tata upon latter 's retir 1991 .\",\n",
       " 'got tata tea acquir tetley , tata motor acquir jaguar land rover , tata steel acquir coru , attempt turn tata larg india-centrist group global busi .',\n",
       " 'around 60-65 % profit donat chariti make one signific philanthropist world .']"
      ]
     },
     "execution_count": 87,
     "metadata": {},
     "output_type": "execute_result"
    }
   ],
   "source": [
    "corpus"
   ]
  },
  {
   "cell_type": "code",
   "execution_count": 88,
   "id": "e66be02b",
   "metadata": {},
   "outputs": [],
   "source": [
    "from sklearn.feature_extraction.text import CountVectorizer"
   ]
  },
  {
   "cell_type": "code",
   "execution_count": 89,
   "id": "d882e7fb",
   "metadata": {},
   "outputs": [
    {
     "data": {
      "text/plain": [
       "['Ratan Naval Tata (born 28 December 1937) is an Indian industrialist, and a former chairman of Tata Sons.',\n",
       " 'He was the chairman of Tata Group, from 1990 to 2012, and again, as interim chairman, from October 2016 through February 2017, and continues to head its charitable trusts.',\n",
       " '[2][3] He is the recipient of two civilian awards of India, the Padma Vibhushan (2008), the second highest civilian honour, and the Padma Bhushan (2000),the third highest civilian honour.',\n",
       " '[4]\\n\\nBorn in 1937, he is an heir of the Tata family, and son of Naval Tata who was later adopted by Ratanji Tata, son of Jamsetji Tata, the founder of Tata Group.',\n",
       " 'He is an alumnus of the Cornell University College of Architecture and Harvard Business School through the Advanced Management Program that he completed in 1975.',\n",
       " \"[5] He joined his company in 1961 when he used to work on the shop floor of Tata Steel, and was the apparent successor to J. R. D. Tata upon the latter's retirement in 1991.\",\n",
       " 'He got Tata Tea to acquire Tetley, Tata Motors to acquire Jaguar Land Rover, and Tata Steel to acquire Corus, in an attempt to turn Tata from a largely India-centrist group into a global business.',\n",
       " 'Around 60-65% of his profits are donated to charity making him one of the most significant philanthropists in the world.']"
      ]
     },
     "execution_count": 89,
     "metadata": {},
     "output_type": "execute_result"
    }
   ],
   "source": [
    "sentences"
   ]
  },
  {
   "cell_type": "code",
   "execution_count": 91,
   "id": "0e537fe9",
   "metadata": {},
   "outputs": [
    {
     "name": "stdout",
     "output_type": "stream",
     "text": [
      "['ratan', 'naval', 'tata', 'born', '28', 'decemb', '1937', 'indian', 'industrialist', 'former', 'chairman', 'tata', 'son']\n",
      "['chairman', 'tata', 'group', '199', '2', '12', 'interim', 'chairman', 'octob', '2', '16', 'februari', '2', '17', 'continu', 'head', 'charit', 'trust']\n",
      "['2', '3', 'recipi', 'two', 'civilian', 'award', 'india', 'padma', 'vibhushan', '2', '8', 'second', 'highest', 'civilian', 'honour', 'padma', 'bhushan', '2', 'third', 'highest', 'civilian', 'honour']\n",
      "['4', 'born', '1937', 'heir', 'tata', 'famili', 'son', 'naval', 'tata', 'later', 'adopt', 'ratanji', 'tata', 'son', 'jamsetji', 'tata', 'founder', 'tata', 'group']\n",
      "['alumnu', 'cornel', 'univers', 'colleg', 'architectur', 'harvard', 'busi', 'school', 'advanc', 'manag', 'program', 'complet', '1975']\n",
      "['5', 'join', 'compani', '1961', 'use', 'work', 'shop', 'floor', 'tata', 'steel', 'appar', 'successor', 'j', 'r', 'tata', 'upon', 'latter', 'retir', '1991']\n",
      "['got', 'tata', 'tea', 'acquir', 'tetley', 'tata', 'motor', 'acquir', 'jaguar', 'land', 'rover', 'tata', 'steel', 'acquir', 'coru', 'attempt', 'turn', 'tata', 'larg', 'india', 'centrist', 'group', 'global', 'busi']\n",
      "['around', '6', '65', 'profit', 'donat', 'chariti', 'make', 'one', 'signific', 'philanthropist', 'world']\n"
     ]
    }
   ],
   "source": [
    "import re\n",
    "corpus = []\n",
    "for i in range(len(sentences)):\n",
    "    text = re.sub('[^a-zA-Z1-9]',' ',sentences[i])\n",
    "    text = text.lower()\n",
    "    words = text.split()\n",
    "    words = [stemmer.stem(word) for word in words if not word in stop_words] \n",
    "    print(words)\n",
    "    corpus.append(\" \".join(words))"
   ]
  },
  {
   "cell_type": "code",
   "execution_count": 92,
   "id": "3c2dd3ec",
   "metadata": {},
   "outputs": [
    {
     "data": {
      "text/plain": [
       "['ratan naval tata born 28 decemb 1937 indian industrialist former chairman tata son',\n",
       " 'chairman tata group 199 2 12 interim chairman octob 2 16 februari 2 17 continu head charit trust',\n",
       " '2 3 recipi two civilian award india padma vibhushan 2 8 second highest civilian honour padma bhushan 2 third highest civilian honour',\n",
       " '4 born 1937 heir tata famili son naval tata later adopt ratanji tata son jamsetji tata founder tata group',\n",
       " 'alumnu cornel univers colleg architectur harvard busi school advanc manag program complet 1975',\n",
       " '5 join compani 1961 use work shop floor tata steel appar successor j r tata upon latter retir 1991',\n",
       " 'got tata tea acquir tetley tata motor acquir jaguar land rover tata steel acquir coru attempt turn tata larg india centrist group global busi',\n",
       " 'around 6 65 profit donat chariti make one signific philanthropist world']"
      ]
     },
     "execution_count": 92,
     "metadata": {},
     "output_type": "execute_result"
    }
   ],
   "source": [
    "corpus"
   ]
  },
  {
   "cell_type": "code",
   "execution_count": 93,
   "id": "4f51031d",
   "metadata": {},
   "outputs": [],
   "source": [
    "cv = CountVectorizer()"
   ]
  },
  {
   "cell_type": "code",
   "execution_count": 95,
   "id": "2f0964c7",
   "metadata": {},
   "outputs": [],
   "source": [
    "spare_matrix = cv.fit_transform(corpus)"
   ]
  },
  {
   "cell_type": "code",
   "execution_count": 96,
   "id": "8863d141",
   "metadata": {},
   "outputs": [
    {
     "data": {
      "text/plain": [
       "<8x94 sparse matrix of type '<class 'numpy.int64'>'\n",
       "\twith 108 stored elements in Compressed Sparse Row format>"
      ]
     },
     "execution_count": 96,
     "metadata": {},
     "output_type": "execute_result"
    }
   ],
   "source": [
    "spare_matrix"
   ]
  },
  {
   "cell_type": "code",
   "execution_count": 100,
   "id": "54feb366",
   "metadata": {},
   "outputs": [
    {
     "data": {
      "text/plain": [
       "array([[0, 0, 0, 1, 0, 0, 0, 0, 1, 0, 0, 0, 0, 0, 0, 0, 0, 0, 0, 0, 1, 0,\n",
       "        0, 1, 0, 0, 0, 0, 0, 0, 0, 0, 0, 1, 0, 0, 0, 0, 1, 0, 0, 0, 0, 0,\n",
       "        0, 0, 0, 0, 0, 1, 1, 0, 0, 0, 0, 0, 0, 0, 0, 0, 0, 0, 1, 0, 0, 0,\n",
       "        0, 0, 0, 1, 0, 0, 0, 0, 0, 0, 0, 0, 1, 0, 0, 2, 0, 0, 0, 0, 0, 0,\n",
       "        0, 0, 0, 0, 0, 0],\n",
       "       [1, 1, 1, 0, 0, 0, 1, 0, 0, 0, 0, 0, 0, 0, 0, 0, 0, 0, 0, 0, 0, 0,\n",
       "        0, 2, 1, 0, 0, 0, 0, 0, 1, 0, 0, 0, 0, 0, 1, 0, 0, 0, 0, 0, 1, 0,\n",
       "        1, 0, 0, 0, 0, 0, 0, 1, 0, 0, 0, 0, 0, 0, 0, 0, 0, 0, 0, 1, 0, 0,\n",
       "        0, 0, 0, 0, 0, 0, 0, 0, 0, 0, 0, 0, 0, 0, 0, 1, 0, 0, 0, 1, 0, 0,\n",
       "        0, 0, 0, 0, 0, 0],\n",
       "       [0, 0, 0, 0, 0, 0, 0, 0, 0, 0, 0, 0, 0, 0, 0, 0, 0, 0, 1, 1, 0, 0,\n",
       "        0, 0, 0, 0, 3, 0, 0, 0, 0, 0, 0, 0, 0, 0, 0, 0, 0, 0, 0, 0, 0, 0,\n",
       "        0, 0, 2, 2, 1, 0, 0, 0, 0, 0, 0, 0, 0, 0, 0, 0, 0, 0, 0, 0, 0, 2,\n",
       "        0, 0, 0, 0, 0, 1, 0, 0, 0, 1, 0, 0, 0, 0, 0, 0, 0, 0, 1, 0, 0, 1,\n",
       "        0, 0, 0, 1, 0, 0],\n",
       "       [0, 0, 0, 1, 0, 0, 0, 0, 0, 0, 0, 1, 0, 0, 0, 0, 0, 0, 0, 0, 1, 0,\n",
       "        0, 0, 0, 0, 0, 0, 0, 0, 0, 0, 0, 0, 0, 1, 0, 0, 0, 1, 0, 0, 1, 0,\n",
       "        0, 1, 0, 0, 0, 0, 0, 0, 0, 1, 0, 0, 0, 1, 0, 0, 0, 0, 1, 0, 0, 0,\n",
       "        0, 0, 0, 0, 1, 0, 0, 0, 0, 0, 0, 0, 2, 0, 0, 5, 0, 0, 0, 0, 0, 0,\n",
       "        0, 0, 0, 0, 0, 0],\n",
       "       [0, 0, 0, 0, 0, 1, 0, 0, 0, 0, 0, 0, 1, 1, 0, 1, 0, 0, 0, 0, 0, 1,\n",
       "        0, 0, 0, 0, 0, 1, 0, 1, 0, 1, 0, 0, 0, 0, 0, 0, 0, 0, 0, 0, 0, 1,\n",
       "        0, 0, 0, 0, 0, 0, 0, 0, 0, 0, 0, 0, 0, 0, 0, 0, 1, 0, 0, 0, 0, 0,\n",
       "        0, 0, 1, 0, 0, 0, 0, 0, 1, 0, 0, 0, 0, 0, 0, 0, 0, 0, 0, 0, 0, 0,\n",
       "        1, 0, 0, 0, 0, 0],\n",
       "       [0, 0, 0, 0, 1, 0, 0, 1, 0, 0, 0, 0, 0, 0, 1, 0, 0, 0, 0, 0, 0, 0,\n",
       "        0, 0, 0, 0, 0, 0, 1, 0, 0, 0, 0, 0, 0, 0, 0, 1, 0, 0, 0, 0, 0, 0,\n",
       "        0, 0, 0, 0, 0, 0, 0, 0, 0, 0, 1, 0, 0, 0, 1, 0, 0, 0, 0, 0, 0, 0,\n",
       "        0, 0, 0, 0, 0, 0, 1, 0, 0, 0, 1, 0, 0, 1, 1, 2, 0, 0, 0, 0, 0, 0,\n",
       "        0, 1, 1, 0, 1, 0],\n",
       "       [0, 0, 0, 0, 0, 0, 0, 0, 0, 0, 3, 0, 0, 0, 0, 0, 0, 1, 0, 0, 0, 1,\n",
       "        1, 0, 0, 0, 0, 0, 0, 0, 0, 0, 1, 0, 0, 0, 0, 0, 0, 0, 1, 1, 1, 0,\n",
       "        0, 0, 0, 0, 1, 0, 0, 0, 1, 0, 0, 1, 1, 0, 0, 0, 0, 1, 0, 0, 0, 0,\n",
       "        0, 0, 0, 0, 0, 0, 0, 1, 0, 0, 0, 0, 0, 1, 0, 4, 1, 1, 0, 0, 1, 0,\n",
       "        0, 0, 0, 0, 0, 0],\n",
       "       [0, 0, 0, 0, 0, 0, 0, 0, 0, 1, 0, 0, 0, 0, 0, 0, 1, 0, 0, 0, 0, 0,\n",
       "        0, 0, 0, 1, 0, 0, 0, 0, 0, 0, 0, 0, 1, 0, 0, 0, 0, 0, 0, 0, 0, 0,\n",
       "        0, 0, 0, 0, 0, 0, 0, 0, 0, 0, 0, 0, 0, 0, 0, 1, 0, 0, 0, 0, 1, 0,\n",
       "        1, 1, 0, 0, 0, 0, 0, 0, 0, 0, 0, 1, 0, 0, 0, 0, 0, 0, 0, 0, 0, 0,\n",
       "        0, 0, 0, 0, 0, 1]], dtype=int64)"
      ]
     },
     "execution_count": 100,
     "metadata": {},
     "output_type": "execute_result"
    }
   ],
   "source": [
    "# applied BOW\n",
    "spare_matrix.toarray()"
   ]
  },
  {
   "cell_type": "code",
   "execution_count": 101,
   "id": "1fb5f55b",
   "metadata": {},
   "outputs": [
    {
     "data": {
      "text/plain": [
       "{'ratan': 69,\n",
       " 'naval': 62,\n",
       " 'tata': 81,\n",
       " 'born': 20,\n",
       " '28': 8,\n",
       " 'decemb': 33,\n",
       " '1937': 3,\n",
       " 'indian': 49,\n",
       " 'industrialist': 50,\n",
       " 'former': 38,\n",
       " 'chairman': 23,\n",
       " 'son': 78,\n",
       " 'group': 42,\n",
       " '199': 6,\n",
       " '12': 0,\n",
       " 'interim': 51,\n",
       " 'octob': 63,\n",
       " '16': 1,\n",
       " 'februari': 36,\n",
       " '17': 2,\n",
       " 'continu': 30,\n",
       " 'head': 44,\n",
       " 'charit': 24,\n",
       " 'trust': 85,\n",
       " 'recipi': 71,\n",
       " 'two': 87,\n",
       " 'civilian': 26,\n",
       " 'award': 18,\n",
       " 'india': 48,\n",
       " 'padma': 65,\n",
       " 'vibhushan': 91,\n",
       " 'second': 75,\n",
       " 'highest': 46,\n",
       " 'honour': 47,\n",
       " 'bhushan': 19,\n",
       " 'third': 84,\n",
       " 'heir': 45,\n",
       " 'famili': 35,\n",
       " 'later': 57,\n",
       " 'adopt': 11,\n",
       " 'ratanji': 70,\n",
       " 'jamsetji': 53,\n",
       " 'founder': 39,\n",
       " 'alumnu': 13,\n",
       " 'cornel': 31,\n",
       " 'univers': 88,\n",
       " 'colleg': 27,\n",
       " 'architectur': 15,\n",
       " 'harvard': 43,\n",
       " 'busi': 21,\n",
       " 'school': 74,\n",
       " 'advanc': 12,\n",
       " 'manag': 60,\n",
       " 'program': 68,\n",
       " 'complet': 29,\n",
       " '1975': 5,\n",
       " 'join': 54,\n",
       " 'compani': 28,\n",
       " '1961': 4,\n",
       " 'use': 90,\n",
       " 'work': 92,\n",
       " 'shop': 76,\n",
       " 'floor': 37,\n",
       " 'steel': 79,\n",
       " 'appar': 14,\n",
       " 'successor': 80,\n",
       " 'upon': 89,\n",
       " 'latter': 58,\n",
       " 'retir': 72,\n",
       " '1991': 7,\n",
       " 'got': 41,\n",
       " 'tea': 82,\n",
       " 'acquir': 10,\n",
       " 'tetley': 83,\n",
       " 'motor': 61,\n",
       " 'jaguar': 52,\n",
       " 'land': 55,\n",
       " 'rover': 73,\n",
       " 'coru': 32,\n",
       " 'attempt': 17,\n",
       " 'turn': 86,\n",
       " 'larg': 56,\n",
       " 'centrist': 22,\n",
       " 'global': 40,\n",
       " 'around': 16,\n",
       " '65': 9,\n",
       " 'profit': 67,\n",
       " 'donat': 34,\n",
       " 'chariti': 25,\n",
       " 'make': 59,\n",
       " 'one': 64,\n",
       " 'signific': 77,\n",
       " 'philanthropist': 66,\n",
       " 'world': 93}"
      ]
     },
     "execution_count": 101,
     "metadata": {},
     "output_type": "execute_result"
    }
   ],
   "source": [
    "cv.vocabulary_   #feature index"
   ]
  },
  {
   "cell_type": "code",
   "execution_count": 102,
   "id": "35bf9540",
   "metadata": {},
   "outputs": [],
   "source": [
    "cv = CountVectorizer(binary=True,ngram_range=(1,2))"
   ]
  },
  {
   "cell_type": "code",
   "execution_count": 103,
   "id": "c6b5a776",
   "metadata": {},
   "outputs": [],
   "source": [
    "spare_matrix = cv.fit_transform(corpus)"
   ]
  },
  {
   "cell_type": "code",
   "execution_count": 104,
   "id": "87a6a881",
   "metadata": {},
   "outputs": [
    {
     "data": {
      "text/plain": [
       "<8x205 sparse matrix of type '<class 'numpy.int64'>'\n",
       "\twith 224 stored elements in Compressed Sparse Row format>"
      ]
     },
     "execution_count": 104,
     "metadata": {},
     "output_type": "execute_result"
    }
   ],
   "source": [
    "spare_matrix"
   ]
  },
  {
   "cell_type": "code",
   "execution_count": 105,
   "id": "1a04183f",
   "metadata": {},
   "outputs": [
    {
     "data": {
      "text/plain": [
       "array([[0, 0, 0, ..., 0, 0, 0],\n",
       "       [1, 1, 1, ..., 0, 0, 0],\n",
       "       [0, 0, 0, ..., 0, 0, 0],\n",
       "       ...,\n",
       "       [0, 0, 0, ..., 1, 1, 0],\n",
       "       [0, 0, 0, ..., 0, 0, 0],\n",
       "       [0, 0, 0, ..., 0, 0, 1]], dtype=int64)"
      ]
     },
     "execution_count": 105,
     "metadata": {},
     "output_type": "execute_result"
    }
   ],
   "source": [
    "spare_matrix.toarray()"
   ]
  },
  {
   "cell_type": "code",
   "execution_count": 106,
   "id": "4636edb6",
   "metadata": {},
   "outputs": [
    {
     "data": {
      "text/plain": [
       "{'ratan': 145,\n",
       " 'naval': 130,\n",
       " 'tata': 171,\n",
       " 'born': 41,\n",
       " '28': 15,\n",
       " 'decemb': 70,\n",
       " '1937': 6,\n",
       " 'indian': 104,\n",
       " 'industrialist': 106,\n",
       " 'former': 80,\n",
       " 'chairman': 48,\n",
       " 'son': 163,\n",
       " 'ratan naval': 146,\n",
       " 'naval tata': 131,\n",
       " 'tata born': 172,\n",
       " 'born 28': 43,\n",
       " '28 decemb': 16,\n",
       " 'decemb 1937': 71,\n",
       " '1937 indian': 8,\n",
       " 'indian industrialist': 105,\n",
       " 'industrialist former': 107,\n",
       " 'former chairman': 81,\n",
       " 'chairman tata': 50,\n",
       " 'tata son': 179,\n",
       " 'group': 88,\n",
       " '199': 12,\n",
       " '12': 0,\n",
       " 'interim': 108,\n",
       " 'octob': 132,\n",
       " '16': 2,\n",
       " 'februari': 76,\n",
       " '17': 4,\n",
       " 'continu': 64,\n",
       " 'head': 93,\n",
       " 'charit': 51,\n",
       " 'trust': 189,\n",
       " 'tata group': 175,\n",
       " 'group 199': 89,\n",
       " '199 12': 13,\n",
       " '12 interim': 1,\n",
       " 'interim chairman': 109,\n",
       " 'chairman octob': 49,\n",
       " 'octob 16': 133,\n",
       " '16 februari': 3,\n",
       " 'februari 17': 77,\n",
       " '17 continu': 5,\n",
       " 'continu head': 65,\n",
       " 'head charit': 94,\n",
       " 'charit trust': 52,\n",
       " 'recipi': 149,\n",
       " 'two': 192,\n",
       " 'civilian': 55,\n",
       " 'award': 37,\n",
       " 'india': 101,\n",
       " 'padma': 136,\n",
       " 'vibhushan': 200,\n",
       " 'second': 157,\n",
       " 'highest': 97,\n",
       " 'honour': 99,\n",
       " 'bhushan': 39,\n",
       " 'third': 187,\n",
       " 'recipi two': 150,\n",
       " 'two civilian': 193,\n",
       " 'civilian award': 56,\n",
       " 'award india': 38,\n",
       " 'india padma': 103,\n",
       " 'padma vibhushan': 138,\n",
       " 'vibhushan second': 201,\n",
       " 'second highest': 158,\n",
       " 'highest civilian': 98,\n",
       " 'civilian honour': 57,\n",
       " 'honour padma': 100,\n",
       " 'padma bhushan': 137,\n",
       " 'bhushan third': 40,\n",
       " 'third highest': 188,\n",
       " 'heir': 95,\n",
       " 'famili': 74,\n",
       " 'later': 120,\n",
       " 'adopt': 23,\n",
       " 'ratanji': 147,\n",
       " 'jamsetji': 112,\n",
       " 'founder': 82,\n",
       " 'born 1937': 42,\n",
       " '1937 heir': 7,\n",
       " 'heir tata': 96,\n",
       " 'tata famili': 173,\n",
       " 'famili son': 75,\n",
       " 'son naval': 165,\n",
       " 'tata later': 177,\n",
       " 'later adopt': 121,\n",
       " 'adopt ratanji': 24,\n",
       " 'ratanji tata': 148,\n",
       " 'son jamsetji': 164,\n",
       " 'jamsetji tata': 113,\n",
       " 'tata founder': 174,\n",
       " 'founder tata': 83,\n",
       " 'alumnu': 27,\n",
       " 'cornel': 66,\n",
       " 'univers': 194,\n",
       " 'colleg': 58,\n",
       " 'architectur': 31,\n",
       " 'harvard': 91,\n",
       " 'busi': 44,\n",
       " 'school': 155,\n",
       " 'advanc': 25,\n",
       " 'manag': 126,\n",
       " 'program': 143,\n",
       " 'complet': 62,\n",
       " '1975': 11,\n",
       " 'alumnu cornel': 28,\n",
       " 'cornel univers': 67,\n",
       " 'univers colleg': 195,\n",
       " 'colleg architectur': 59,\n",
       " 'architectur harvard': 32,\n",
       " 'harvard busi': 92,\n",
       " 'busi school': 45,\n",
       " 'school advanc': 156,\n",
       " 'advanc manag': 26,\n",
       " 'manag program': 127,\n",
       " 'program complet': 144,\n",
       " 'complet 1975': 63,\n",
       " 'join': 114,\n",
       " 'compani': 60,\n",
       " '1961': 9,\n",
       " 'use': 198,\n",
       " 'work': 202,\n",
       " 'shop': 159,\n",
       " 'floor': 78,\n",
       " 'steel': 166,\n",
       " 'appar': 29,\n",
       " 'successor': 169,\n",
       " 'upon': 196,\n",
       " 'latter': 122,\n",
       " 'retir': 151,\n",
       " '1991': 14,\n",
       " 'join compani': 115,\n",
       " 'compani 1961': 61,\n",
       " '1961 use': 10,\n",
       " 'use work': 199,\n",
       " 'work shop': 203,\n",
       " 'shop floor': 160,\n",
       " 'floor tata': 79,\n",
       " 'tata steel': 180,\n",
       " 'steel appar': 168,\n",
       " 'appar successor': 30,\n",
       " 'successor tata': 170,\n",
       " 'tata upon': 182,\n",
       " 'upon latter': 197,\n",
       " 'latter retir': 123,\n",
       " 'retir 1991': 152,\n",
       " 'got': 86,\n",
       " 'tea': 183,\n",
       " 'acquir': 19,\n",
       " 'tetley': 185,\n",
       " 'motor': 128,\n",
       " 'jaguar': 110,\n",
       " 'land': 116,\n",
       " 'rover': 153,\n",
       " 'coru': 68,\n",
       " 'attempt': 35,\n",
       " 'turn': 190,\n",
       " 'larg': 118,\n",
       " 'centrist': 46,\n",
       " 'global': 84,\n",
       " 'got tata': 87,\n",
       " 'tata tea': 181,\n",
       " 'tea acquir': 184,\n",
       " 'acquir tetley': 22,\n",
       " 'tetley tata': 186,\n",
       " 'tata motor': 178,\n",
       " 'motor acquir': 129,\n",
       " 'acquir jaguar': 21,\n",
       " 'jaguar land': 111,\n",
       " 'land rover': 117,\n",
       " 'rover tata': 154,\n",
       " 'steel acquir': 167,\n",
       " 'acquir coru': 20,\n",
       " 'coru attempt': 69,\n",
       " 'attempt turn': 36,\n",
       " 'turn tata': 191,\n",
       " 'tata larg': 176,\n",
       " 'larg india': 119,\n",
       " 'india centrist': 102,\n",
       " 'centrist group': 47,\n",
       " 'group global': 90,\n",
       " 'global busi': 85,\n",
       " 'around': 33,\n",
       " '65': 17,\n",
       " 'profit': 141,\n",
       " 'donat': 72,\n",
       " 'chariti': 53,\n",
       " 'make': 124,\n",
       " 'one': 134,\n",
       " 'signific': 161,\n",
       " 'philanthropist': 139,\n",
       " 'world': 204,\n",
       " 'around 65': 34,\n",
       " '65 profit': 18,\n",
       " 'profit donat': 142,\n",
       " 'donat chariti': 73,\n",
       " 'chariti make': 54,\n",
       " 'make one': 125,\n",
       " 'one signific': 135,\n",
       " 'signific philanthropist': 162,\n",
       " 'philanthropist world': 140}"
      ]
     },
     "execution_count": 106,
     "metadata": {},
     "output_type": "execute_result"
    }
   ],
   "source": [
    "cv.vocabulary_"
   ]
  },
  {
   "cell_type": "code",
   "execution_count": 107,
   "id": "8a18d90a",
   "metadata": {},
   "outputs": [
    {
     "data": {
      "text/plain": [
       "(8, 205)"
      ]
     },
     "execution_count": 107,
     "metadata": {},
     "output_type": "execute_result"
    }
   ],
   "source": [
    "spare_matrix.toarray().shape"
   ]
  },
  {
   "cell_type": "code",
   "execution_count": 108,
   "id": "8b5b5c55",
   "metadata": {},
   "outputs": [],
   "source": [
    "from sklearn.feature_extraction.text import TfidfVectorizer"
   ]
  },
  {
   "cell_type": "code",
   "execution_count": 109,
   "id": "506806ae",
   "metadata": {},
   "outputs": [],
   "source": [
    "tf_idf = TfidfVectorizer()"
   ]
  },
  {
   "cell_type": "code",
   "execution_count": 110,
   "id": "f765fa50",
   "metadata": {},
   "outputs": [],
   "source": [
    "spare_matrix = tf_idf.fit_transform(corpus)"
   ]
  },
  {
   "cell_type": "code",
   "execution_count": 111,
   "id": "76c54da3",
   "metadata": {},
   "outputs": [
    {
     "data": {
      "text/plain": [
       "<8x94 sparse matrix of type '<class 'numpy.float64'>'\n",
       "\twith 108 stored elements in Compressed Sparse Row format>"
      ]
     },
     "execution_count": 111,
     "metadata": {},
     "output_type": "execute_result"
    }
   ],
   "source": [
    "spare_matrix"
   ]
  },
  {
   "cell_type": "code",
   "execution_count": 112,
   "id": "56105ede",
   "metadata": {},
   "outputs": [
    {
     "data": {
      "text/plain": [
       "array([[0.        , 0.        , 0.        , 0.25535057, 0.        ,\n",
       "        0.        , 0.        , 0.        , 0.30468591, 0.        ,\n",
       "        0.        , 0.        , 0.        , 0.        , 0.        ,\n",
       "        0.        , 0.        , 0.        , 0.        , 0.        ,\n",
       "        0.25535057, 0.        , 0.        , 0.25535057, 0.        ,\n",
       "        0.        , 0.        , 0.        , 0.        , 0.        ,\n",
       "        0.        , 0.        , 0.        , 0.30468591, 0.        ,\n",
       "        0.        , 0.        , 0.        , 0.30468591, 0.        ,\n",
       "        0.        , 0.        , 0.        , 0.        , 0.        ,\n",
       "        0.        , 0.        , 0.        , 0.        , 0.30468591,\n",
       "        0.30468591, 0.        , 0.        , 0.        , 0.        ,\n",
       "        0.        , 0.        , 0.        , 0.        , 0.        ,\n",
       "        0.        , 0.        , 0.25535057, 0.        , 0.        ,\n",
       "        0.        , 0.        , 0.        , 0.        , 0.30468591,\n",
       "        0.        , 0.        , 0.        , 0.        , 0.        ,\n",
       "        0.        , 0.        , 0.        , 0.25535057, 0.        ,\n",
       "        0.        , 0.34202251, 0.        , 0.        , 0.        ,\n",
       "        0.        , 0.        , 0.        , 0.        , 0.        ,\n",
       "        0.        , 0.        , 0.        , 0.        ],\n",
       "       [0.26128699, 0.26128699, 0.26128699, 0.        , 0.        ,\n",
       "        0.        , 0.26128699, 0.        , 0.        , 0.        ,\n",
       "        0.        , 0.        , 0.        , 0.        , 0.        ,\n",
       "        0.        , 0.        , 0.        , 0.        , 0.        ,\n",
       "        0.        , 0.        , 0.        , 0.43795777, 0.26128699,\n",
       "        0.        , 0.        , 0.        , 0.        , 0.        ,\n",
       "        0.26128699, 0.        , 0.        , 0.        , 0.        ,\n",
       "        0.        , 0.26128699, 0.        , 0.        , 0.        ,\n",
       "        0.        , 0.        , 0.18896081, 0.        , 0.26128699,\n",
       "        0.        , 0.        , 0.        , 0.        , 0.        ,\n",
       "        0.        , 0.26128699, 0.        , 0.        , 0.        ,\n",
       "        0.        , 0.        , 0.        , 0.        , 0.        ,\n",
       "        0.        , 0.        , 0.        , 0.26128699, 0.        ,\n",
       "        0.        , 0.        , 0.        , 0.        , 0.        ,\n",
       "        0.        , 0.        , 0.        , 0.        , 0.        ,\n",
       "        0.        , 0.        , 0.        , 0.        , 0.        ,\n",
       "        0.        , 0.14665271, 0.        , 0.        , 0.        ,\n",
       "        0.26128699, 0.        , 0.        , 0.        , 0.        ,\n",
       "        0.        , 0.        , 0.        , 0.        ],\n",
       "       [0.        , 0.        , 0.        , 0.        , 0.        ,\n",
       "        0.        , 0.        , 0.        , 0.        , 0.        ,\n",
       "        0.        , 0.        , 0.        , 0.        , 0.        ,\n",
       "        0.        , 0.        , 0.        , 0.18665563, 0.18665563,\n",
       "        0.        , 0.        , 0.        , 0.        , 0.        ,\n",
       "        0.        , 0.55996688, 0.        , 0.        , 0.        ,\n",
       "        0.        , 0.        , 0.        , 0.        , 0.        ,\n",
       "        0.        , 0.        , 0.        , 0.        , 0.        ,\n",
       "        0.        , 0.        , 0.        , 0.        , 0.        ,\n",
       "        0.        , 0.37331125, 0.37331125, 0.15643198, 0.        ,\n",
       "        0.        , 0.        , 0.        , 0.        , 0.        ,\n",
       "        0.        , 0.        , 0.        , 0.        , 0.        ,\n",
       "        0.        , 0.        , 0.        , 0.        , 0.        ,\n",
       "        0.37331125, 0.        , 0.        , 0.        , 0.        ,\n",
       "        0.        , 0.18665563, 0.        , 0.        , 0.        ,\n",
       "        0.18665563, 0.        , 0.        , 0.        , 0.        ,\n",
       "        0.        , 0.        , 0.        , 0.        , 0.18665563,\n",
       "        0.        , 0.        , 0.18665563, 0.        , 0.        ,\n",
       "        0.        , 0.18665563, 0.        , 0.        ],\n",
       "       [0.        , 0.        , 0.        , 0.18594024, 0.        ,\n",
       "        0.        , 0.        , 0.        , 0.        , 0.        ,\n",
       "        0.        , 0.22186506, 0.        , 0.        , 0.        ,\n",
       "        0.        , 0.        , 0.        , 0.        , 0.        ,\n",
       "        0.18594024, 0.        , 0.        , 0.        , 0.        ,\n",
       "        0.        , 0.        , 0.        , 0.        , 0.        ,\n",
       "        0.        , 0.        , 0.        , 0.        , 0.        ,\n",
       "        0.22186506, 0.        , 0.        , 0.        , 0.22186506,\n",
       "        0.        , 0.        , 0.16045117, 0.        , 0.        ,\n",
       "        0.22186506, 0.        , 0.        , 0.        , 0.        ,\n",
       "        0.        , 0.        , 0.        , 0.22186506, 0.        ,\n",
       "        0.        , 0.        , 0.22186506, 0.        , 0.        ,\n",
       "        0.        , 0.        , 0.18594024, 0.        , 0.        ,\n",
       "        0.        , 0.        , 0.        , 0.        , 0.        ,\n",
       "        0.22186506, 0.        , 0.        , 0.        , 0.        ,\n",
       "        0.        , 0.        , 0.        , 0.37188048, 0.        ,\n",
       "        0.        , 0.62263173, 0.        , 0.        , 0.        ,\n",
       "        0.        , 0.        , 0.        , 0.        , 0.        ,\n",
       "        0.        , 0.        , 0.        , 0.        ],\n",
       "       [0.        , 0.        , 0.        , 0.        , 0.        ,\n",
       "        0.28058053, 0.        , 0.        , 0.        , 0.        ,\n",
       "        0.        , 0.        , 0.28058053, 0.28058053, 0.        ,\n",
       "        0.28058053, 0.        , 0.        , 0.        , 0.        ,\n",
       "        0.        , 0.23514839, 0.        , 0.        , 0.        ,\n",
       "        0.        , 0.        , 0.28058053, 0.        , 0.28058053,\n",
       "        0.        , 0.28058053, 0.        , 0.        , 0.        ,\n",
       "        0.        , 0.        , 0.        , 0.        , 0.        ,\n",
       "        0.        , 0.        , 0.        , 0.28058053, 0.        ,\n",
       "        0.        , 0.        , 0.        , 0.        , 0.        ,\n",
       "        0.        , 0.        , 0.        , 0.        , 0.        ,\n",
       "        0.        , 0.        , 0.        , 0.        , 0.        ,\n",
       "        0.28058053, 0.        , 0.        , 0.        , 0.        ,\n",
       "        0.        , 0.        , 0.        , 0.28058053, 0.        ,\n",
       "        0.        , 0.        , 0.        , 0.        , 0.28058053,\n",
       "        0.        , 0.        , 0.        , 0.        , 0.        ,\n",
       "        0.        , 0.        , 0.        , 0.        , 0.        ,\n",
       "        0.        , 0.        , 0.        , 0.28058053, 0.        ,\n",
       "        0.        , 0.        , 0.        , 0.        ],\n",
       "       [0.        , 0.        , 0.        , 0.        , 0.25852247,\n",
       "        0.        , 0.        , 0.25852247, 0.        , 0.        ,\n",
       "        0.        , 0.        , 0.        , 0.        , 0.25852247,\n",
       "        0.        , 0.        , 0.        , 0.        , 0.        ,\n",
       "        0.        , 0.        , 0.        , 0.        , 0.        ,\n",
       "        0.        , 0.        , 0.        , 0.25852247, 0.        ,\n",
       "        0.        , 0.        , 0.        , 0.        , 0.        ,\n",
       "        0.        , 0.        , 0.25852247, 0.        , 0.        ,\n",
       "        0.        , 0.        , 0.        , 0.        , 0.        ,\n",
       "        0.        , 0.        , 0.        , 0.        , 0.        ,\n",
       "        0.        , 0.        , 0.        , 0.        , 0.25852247,\n",
       "        0.        , 0.        , 0.        , 0.25852247, 0.        ,\n",
       "        0.        , 0.        , 0.        , 0.        , 0.        ,\n",
       "        0.        , 0.        , 0.        , 0.        , 0.        ,\n",
       "        0.        , 0.        , 0.25852247, 0.        , 0.        ,\n",
       "        0.        , 0.25852247, 0.        , 0.        , 0.21666201,\n",
       "        0.25852247, 0.29020214, 0.        , 0.        , 0.        ,\n",
       "        0.        , 0.        , 0.        , 0.        , 0.25852247,\n",
       "        0.25852247, 0.        , 0.25852247, 0.        ],\n",
       "       [0.        , 0.        , 0.        , 0.        , 0.        ,\n",
       "        0.        , 0.        , 0.        , 0.        , 0.        ,\n",
       "        0.55075522, 0.        , 0.        , 0.        , 0.        ,\n",
       "        0.        , 0.        , 0.18358507, 0.        , 0.        ,\n",
       "        0.        , 0.15385862, 0.18358507, 0.        , 0.        ,\n",
       "        0.        , 0.        , 0.        , 0.        , 0.        ,\n",
       "        0.        , 0.        , 0.18358507, 0.        , 0.        ,\n",
       "        0.        , 0.        , 0.        , 0.        , 0.        ,\n",
       "        0.18358507, 0.18358507, 0.13276736, 0.        , 0.        ,\n",
       "        0.        , 0.        , 0.        , 0.15385862, 0.        ,\n",
       "        0.        , 0.        , 0.18358507, 0.        , 0.        ,\n",
       "        0.18358507, 0.18358507, 0.        , 0.        , 0.        ,\n",
       "        0.        , 0.18358507, 0.        , 0.        , 0.        ,\n",
       "        0.        , 0.        , 0.        , 0.        , 0.        ,\n",
       "        0.        , 0.        , 0.        , 0.18358507, 0.        ,\n",
       "        0.        , 0.        , 0.        , 0.        , 0.15385862,\n",
       "        0.        , 0.41216364, 0.18358507, 0.18358507, 0.        ,\n",
       "        0.        , 0.18358507, 0.        , 0.        , 0.        ,\n",
       "        0.        , 0.        , 0.        , 0.        ],\n",
       "       [0.        , 0.        , 0.        , 0.        , 0.        ,\n",
       "        0.        , 0.        , 0.        , 0.        , 0.31622777,\n",
       "        0.        , 0.        , 0.        , 0.        , 0.        ,\n",
       "        0.        , 0.31622777, 0.        , 0.        , 0.        ,\n",
       "        0.        , 0.        , 0.        , 0.        , 0.        ,\n",
       "        0.31622777, 0.        , 0.        , 0.        , 0.        ,\n",
       "        0.        , 0.        , 0.        , 0.        , 0.31622777,\n",
       "        0.        , 0.        , 0.        , 0.        , 0.        ,\n",
       "        0.        , 0.        , 0.        , 0.        , 0.        ,\n",
       "        0.        , 0.        , 0.        , 0.        , 0.        ,\n",
       "        0.        , 0.        , 0.        , 0.        , 0.        ,\n",
       "        0.        , 0.        , 0.        , 0.        , 0.31622777,\n",
       "        0.        , 0.        , 0.        , 0.        , 0.31622777,\n",
       "        0.        , 0.31622777, 0.31622777, 0.        , 0.        ,\n",
       "        0.        , 0.        , 0.        , 0.        , 0.        ,\n",
       "        0.        , 0.        , 0.31622777, 0.        , 0.        ,\n",
       "        0.        , 0.        , 0.        , 0.        , 0.        ,\n",
       "        0.        , 0.        , 0.        , 0.        , 0.        ,\n",
       "        0.        , 0.        , 0.        , 0.31622777]])"
      ]
     },
     "execution_count": 112,
     "metadata": {},
     "output_type": "execute_result"
    }
   ],
   "source": [
    "spare_matrix.toarray()"
   ]
  },
  {
   "cell_type": "code",
   "execution_count": 113,
   "id": "3e040c97",
   "metadata": {},
   "outputs": [
    {
     "data": {
      "text/plain": [
       "(8, 94)"
      ]
     },
     "execution_count": 113,
     "metadata": {},
     "output_type": "execute_result"
    }
   ],
   "source": [
    "spare_matrix.toarray().shape"
   ]
  },
  {
   "cell_type": "code",
   "execution_count": 114,
   "id": "3df12233",
   "metadata": {},
   "outputs": [
    {
     "data": {
      "text/plain": [
       "{'ratan': 69,\n",
       " 'naval': 62,\n",
       " 'tata': 81,\n",
       " 'born': 20,\n",
       " '28': 8,\n",
       " 'decemb': 33,\n",
       " '1937': 3,\n",
       " 'indian': 49,\n",
       " 'industrialist': 50,\n",
       " 'former': 38,\n",
       " 'chairman': 23,\n",
       " 'son': 78,\n",
       " 'group': 42,\n",
       " '199': 6,\n",
       " '12': 0,\n",
       " 'interim': 51,\n",
       " 'octob': 63,\n",
       " '16': 1,\n",
       " 'februari': 36,\n",
       " '17': 2,\n",
       " 'continu': 30,\n",
       " 'head': 44,\n",
       " 'charit': 24,\n",
       " 'trust': 85,\n",
       " 'recipi': 71,\n",
       " 'two': 87,\n",
       " 'civilian': 26,\n",
       " 'award': 18,\n",
       " 'india': 48,\n",
       " 'padma': 65,\n",
       " 'vibhushan': 91,\n",
       " 'second': 75,\n",
       " 'highest': 46,\n",
       " 'honour': 47,\n",
       " 'bhushan': 19,\n",
       " 'third': 84,\n",
       " 'heir': 45,\n",
       " 'famili': 35,\n",
       " 'later': 57,\n",
       " 'adopt': 11,\n",
       " 'ratanji': 70,\n",
       " 'jamsetji': 53,\n",
       " 'founder': 39,\n",
       " 'alumnu': 13,\n",
       " 'cornel': 31,\n",
       " 'univers': 88,\n",
       " 'colleg': 27,\n",
       " 'architectur': 15,\n",
       " 'harvard': 43,\n",
       " 'busi': 21,\n",
       " 'school': 74,\n",
       " 'advanc': 12,\n",
       " 'manag': 60,\n",
       " 'program': 68,\n",
       " 'complet': 29,\n",
       " '1975': 5,\n",
       " 'join': 54,\n",
       " 'compani': 28,\n",
       " '1961': 4,\n",
       " 'use': 90,\n",
       " 'work': 92,\n",
       " 'shop': 76,\n",
       " 'floor': 37,\n",
       " 'steel': 79,\n",
       " 'appar': 14,\n",
       " 'successor': 80,\n",
       " 'upon': 89,\n",
       " 'latter': 58,\n",
       " 'retir': 72,\n",
       " '1991': 7,\n",
       " 'got': 41,\n",
       " 'tea': 82,\n",
       " 'acquir': 10,\n",
       " 'tetley': 83,\n",
       " 'motor': 61,\n",
       " 'jaguar': 52,\n",
       " 'land': 55,\n",
       " 'rover': 73,\n",
       " 'coru': 32,\n",
       " 'attempt': 17,\n",
       " 'turn': 86,\n",
       " 'larg': 56,\n",
       " 'centrist': 22,\n",
       " 'global': 40,\n",
       " 'around': 16,\n",
       " '65': 9,\n",
       " 'profit': 67,\n",
       " 'donat': 34,\n",
       " 'chariti': 25,\n",
       " 'make': 59,\n",
       " 'one': 64,\n",
       " 'signific': 77,\n",
       " 'philanthropist': 66,\n",
       " 'world': 93}"
      ]
     },
     "execution_count": 114,
     "metadata": {},
     "output_type": "execute_result"
    }
   ],
   "source": [
    "tf_idf.vocabulary_"
   ]
  },
  {
   "cell_type": "code",
   "execution_count": 117,
   "id": "1f7ff774",
   "metadata": {},
   "outputs": [],
   "source": [
    "# new test data\n",
    "data = [\"I want to have food\"]\n",
    "result = cv.transform(data)"
   ]
  },
  {
   "cell_type": "code",
   "execution_count": 118,
   "id": "0533be73",
   "metadata": {},
   "outputs": [
    {
     "data": {
      "text/plain": [
       "<1x205 sparse matrix of type '<class 'numpy.int64'>'\n",
       "\twith 0 stored elements in Compressed Sparse Row format>"
      ]
     },
     "execution_count": 118,
     "metadata": {},
     "output_type": "execute_result"
    }
   ],
   "source": [
    "result"
   ]
  },
  {
   "cell_type": "code",
   "execution_count": 121,
   "id": "dc8a8f8f",
   "metadata": {},
   "outputs": [
    {
     "data": {
      "text/plain": [
       "array([[0, 0, 0, 0, 0, 0, 0, 0, 0, 0, 0, 0, 0, 0, 0, 0, 0, 0, 0, 0, 0, 0,\n",
       "        0, 0, 0, 0, 0, 0, 0, 0, 0, 0, 0, 0, 0, 0, 0, 0, 0, 0, 0, 0, 0, 0,\n",
       "        0, 0, 0, 0, 0, 0, 0, 0, 0, 0, 0, 0, 0, 0, 0, 0, 0, 0, 0, 0, 0, 0,\n",
       "        0, 0, 0, 0, 0, 0, 0, 0, 0, 0, 0, 0, 0, 0, 0, 0, 0, 0, 0, 0, 0, 0,\n",
       "        0, 0, 0, 0, 0, 0, 0, 0, 0, 0, 0, 0, 0, 0, 0, 0, 0, 0, 0, 0, 0, 0,\n",
       "        0, 0, 0, 0, 0, 0, 0, 0, 0, 0, 0, 0, 0, 0, 0, 0, 0, 0, 0, 0, 0, 0,\n",
       "        0, 0, 0, 0, 0, 0, 0, 0, 0, 0, 0, 0, 0, 0, 0, 0, 0, 0, 0, 0, 0, 0,\n",
       "        0, 0, 0, 0, 0, 0, 0, 0, 0, 0, 0, 0, 0, 0, 0, 0, 0, 0, 0, 0, 0, 0,\n",
       "        0, 0, 0, 0, 0, 0, 0, 0, 0, 0, 0, 0, 0, 0, 0, 0, 0, 0, 0, 0, 0, 0,\n",
       "        0, 0, 0, 0, 0, 0, 0]], dtype=int64)"
      ]
     },
     "execution_count": 121,
     "metadata": {},
     "output_type": "execute_result"
    }
   ],
   "source": [
    "result.toarray() #because of out of vocabulary"
   ]
  },
  {
   "cell_type": "code",
   "execution_count": 122,
   "id": "ea2c6ed6",
   "metadata": {},
   "outputs": [
    {
     "data": {
      "text/plain": [
       "array([[0, 0, 0, 0, 0, 0, 0, 0, 0, 0, 0, 0, 0, 0, 0, 0, 0, 0, 0, 0, 0, 0,\n",
       "        0, 0, 0, 0, 0, 0, 0, 0, 0, 0, 0, 0, 0, 0, 0, 0, 0, 0, 0, 0, 0, 0,\n",
       "        0, 0, 0, 0, 0, 0, 0, 0, 0, 0, 0, 0, 0, 0, 0, 0, 0, 0, 0, 0, 0, 0,\n",
       "        0, 0, 0, 0, 0, 0, 0, 0, 0, 0, 0, 0, 0, 0, 0, 0, 0, 0, 0, 0, 0, 0,\n",
       "        0, 0, 0, 0, 0, 0, 0, 0, 0, 0, 0, 0, 0, 0, 0, 0, 0, 0, 0, 0, 0, 0,\n",
       "        0, 0, 0, 0, 0, 0, 0, 0, 0, 0, 0, 0, 0, 0, 0, 0, 0, 0, 0, 0, 0, 0,\n",
       "        0, 0, 0, 0, 0, 0, 0, 0, 0, 0, 0, 0, 0, 1, 0, 0, 0, 0, 0, 0, 0, 0,\n",
       "        0, 0, 0, 0, 0, 0, 0, 0, 0, 1, 0, 0, 0, 0, 0, 0, 0, 0, 0, 0, 0, 0,\n",
       "        0, 0, 0, 0, 0, 0, 0, 0, 0, 0, 0, 0, 0, 0, 0, 0, 0, 0, 0, 0, 0, 0,\n",
       "        0, 0, 0, 0, 0, 0, 0]], dtype=int64)"
      ]
     },
     "execution_count": 122,
     "metadata": {},
     "output_type": "execute_result"
    }
   ],
   "source": [
    "data = [\"I want to ratan data son\"]\n",
    "cv.transform(data).toarray()"
   ]
  },
  {
   "cell_type": "code",
   "execution_count": 125,
   "id": "48c84144",
   "metadata": {},
   "outputs": [],
   "source": [
    "import pickle \n",
    "pickle.dump(tf_idf,open('tfdif.pkl','wb'))"
   ]
  },
  {
   "cell_type": "code",
   "execution_count": null,
   "id": "da12e42d",
   "metadata": {},
   "outputs": [],
   "source": []
  }
 ],
 "metadata": {
  "kernelspec": {
   "display_name": "Python 3 (ipykernel)",
   "language": "python",
   "name": "python3"
  },
  "language_info": {
   "codemirror_mode": {
    "name": "ipython",
    "version": 3
   },
   "file_extension": ".py",
   "mimetype": "text/x-python",
   "name": "python",
   "nbconvert_exporter": "python",
   "pygments_lexer": "ipython3",
   "version": "3.9.12"
  }
 },
 "nbformat": 4,
 "nbformat_minor": 5
}
